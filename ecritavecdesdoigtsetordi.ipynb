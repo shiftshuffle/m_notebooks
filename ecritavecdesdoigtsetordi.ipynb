{
 "cells": [
  {
   "cell_type": "markdown",
   "metadata": {},
   "source": [
    "quest ce que nous pouvons faire pour nous?, en quittant les mauvais coutumes de notre societe, on peux ameliorer notre experience le passage des informations, des idees, tout ce que nous on besoin cest la polarite de choses, un dualite intrinseque.\n",
    "​\n",
    "\n",
    "cest en prennent conscience que nous sommes ce qui nous voulons, plus que notre penses, plus qu'on peut faire, plus qu'on peut voit, plus fort que nos emotions et notres esprits.\n",
    "​\n",
    "\n",
    "pourquoi? ecoute un chanson avec beaucoup de bonheur et vous serait pret a recevoir bonheur, ecoute un chanson calme et contemplatif et votre pensees vont echapper tout barrier physique pour se contemplent soi-memes.\n",
    "​\n",
    "\n",
    "l'education c'est y rendre compte des choses utiles et de utiliser des moyens deja construits,\n",
    "un peu de habitude et un peu de reflechir ce qu'on faire, rappelant que nous sommes aussi des systemes propres et que on ne peut pas ce rendre compte de tout ce qui arrive dans notre corps a tout moment,\n",
    "plus vous avez introspection, plus vous pouvez voir de mecanismes internes autoreferents.\n",
    "​\n",
    "\n",
    "petit blague: 'je ne suis pas une phrase autoreferent et \"e\" c'est mon dernier lettre'"
   ]
  }
 ],
 "metadata": {
  "kernelspec": {
   "display_name": "Python 3",
   "language": "python",
   "name": "python3"
  },
  "language_info": {
   "codemirror_mode": {
    "name": "ipython",
    "version": 3
   },
   "file_extension": ".py",
   "mimetype": "text/x-python",
   "name": "python",
   "nbconvert_exporter": "python",
   "pygments_lexer": "ipython3",
   "version": "3.4.0"
  }
 },
 "nbformat": 4,
 "nbformat_minor": 0
}

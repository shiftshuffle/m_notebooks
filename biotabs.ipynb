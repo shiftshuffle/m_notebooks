{
 "cells": [
  {
   "cell_type": "markdown",
   "metadata": {},
   "source": [
    "\n",
    "* [Francois Rechenmann](https://interstices.info/jcms/c_6466/rechenmann)\n",
    "* [systemes-dynamiques](https://interstices.info/jcms/n_49941/systemes-dynamiques-et-equations-differentielles)\n",
    "* [Xylella en corse](http://www.lemonde.fr/biodiversite/article/2015/07/23/la-bacterie-tueuse-d-oliviers-est-arrivee-en-corse_4694616_1652692.html)\n",
    "* [Sickit-image python](https://peerj.com/articles/453/)\n",
    "* [Why insulin is hard](http://blog.indysci.org/insulin-is-hard-but-not-impossible/#more-154)\n",
    "* [internet nous rend-il idiots?](http://www.intelligentzia.ch/doc/Le_Temps_220808_Internet_nous_rend-il_idiots.pdf)\n",
    "\n",
    " Video\n",
    "\n",
    "* [automatique](https://www.youtube.com/watch?v=999kzydPHGg)\n",
    "* [transcription](https://www.youtube.com/watch?v=h3b9ArupXZg)\n"
   ]
  }
 ],
 "metadata": {
  "kernelspec": {
   "display_name": "Julia 0.4.0-dev",
   "language": "julia",
   "name": "julia-0.4"
  },
  "language_info": {
   "name": "julia",
   "version": "0.4.0"
  }
 },
 "nbformat": 4,
 "nbformat_minor": 0
}

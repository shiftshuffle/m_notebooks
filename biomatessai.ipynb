{
 "cells": [
  {
   "cell_type": "markdown",
   "metadata": {},
   "source": [
    "##Disipacion y termodinamica"
   ]
  },
  {
   "cell_type": "markdown",
   "metadata": {},
   "source": [
    "####Introduccion\n",
    "\n"
   ]
  },
  {
   "cell_type": "markdown",
   "metadata": {},
   "source": [
    "\n",
    "s Belgian physicist Ilya Prigogine, who advanced the strange idea of \"dissipative structures\" as a possible source of new complexity in nature. He postulated that when systems somehow are \"perturbed\" to a \"far-from-equilibrium\" condition, as a result of a large influx of external energy which produces an inordinate amount of internal energy dissipation, then certain \"structures\" might be generated. An example would be the generation of storm cells in the earth's atmosphere by incoming solar heat.\n",
    "\n",
    "How such \"dissipative structures\" could possibly produce organic evolution is completely unknown and seems quite impossible to imagine. Such systems in no way contradict the principle of entropy but rather are illustrations of entropy working overtime! The Harvard scientist, John Ross, comments:"
   ]
  },
  {
   "cell_type": "markdown",
   "metadata": {},
   "source": [
    "That is, it is important to extract both\n",
    "structure (the how) and function (the why) of the underlying models of natural systems. In its primitive\n",
    "and vaguest form, comparative complexity involves the use of scientific analogs and metaphors\n",
    "between domains of science: this has been going on since the dawn of science. Unfortunately,\n",
    "analogy and metaphor is viewed, with justified skepticism, as \"unscientific.\""
   ]
  },
  {
   "cell_type": "markdown",
   "metadata": {},
   "source": [
    "In far from equilibrium conditions, the concept of probability that underlies Boltzmann's order principle\n",
    "is no longer valid if the structures we observe do not correspond to a maximum of\n",
    "complexions\" -- Ilya Prigogine"
   ]
  },
  {
   "cell_type": "markdown",
   "metadata": {},
   "source": [
    "Pour la Science, no 300, octobre 2002\n",
    "\"L’étude des phénomènes d’auto-organisation se fonde sur les structures\n",
    "de Turing et les structures dissipatives de Prigogine. Ces structures\n",
    "apparaissent lorsqu’une substance inhibitrice diffuse plus vite que\n",
    "l’activateur. Insistons sur le caractère paradoxal de ce phénomène :\n",
    "c’est la diffusion, phénomène qui tend d’habitude à homogénéiser les\n",
    "constituants, qui va ici jouer un rôle essentiel la différenciation.\n",
    "L’entropie semble s’inverser, devenant créatrice de formes et d’ordre,\n",
    "tout comme le refroidissement provoque des brisures de symétries se\n",
    "traduisant par des cristallisations. \""
   ]
  },
  {
   "cell_type": "markdown",
   "metadata": {},
   "source": [
    "« Une notion cruciale est la notion d’attracteur. Les exemples\n",
    "d’attracteurs sont innombrables et bien connus de la physique. Le\n",
    "pendule, qui s’immobilise progressivement, rejoint son état attracteur. Le\n",
    "liquide chaud dont la température rejoint progressivement celle de\n",
    "l’environnement gagne son état attracteur. (...) Nous avons vu que, près\n",
    "de l’équilibre, l’état stationnaire correspond (....) à un état attracteur\n",
    "essentiellement analogue à l’état d’équilibre. Mais, loin de l’équilibre,\n",
    "d’autres types d’attracteurs peuvent apparaître, et notamment le « cycle\n",
    "limite », correspondant à un comportement temporel périodique adopté\n",
    "de manière spontanée par le système. (...) Depuis, de nouveaux types\n",
    "d’attracteurs ont été découverts qui enrichissent la dialectique du\n",
    "régulier et de l’aléatoire. (...) Ces attracteurs ne correspondent pas à un\n",
    "point, comme l’état d’équilibre, ou à une ligne, comme le cycle limite,\n",
    "mais à un ensemble dense de points, un ensemble assez dense pour\n",
    "que l’on puisse trouver de ces points dans toute région, aussi petite soit-\n",
    "elle. Il s’agit d’un ensemble auquel peut être attribué une dimension\n",
    "« fractale ». Les attracteurs de ce type impliquent, de la part du système\n",
    "qu’ils caractérisent, un comportement de type chaotique. Attracteur et\n",
    "stabilité cessent ici d’aller de pair. David Ruelle a caractérisé ces\n",
    "« attracteurs étranges », qu’on a également appelés « attracteurs\n",
    "fractals », par leur très grande sensibilité aux conditions initiales. Ce qui\n",
    "signifie que l’état attracteur ne se caractérise plus du tout par son\n",
    "insensibilité à de petites variations de ses paramètres. Toute petite\n",
    "variation est susceptible d’entraîner des effets sans mesure, de déporter\n",
    "le système d’un état à un autre très différent. (...) L’opposition entre\n",
    "déterminisme et aléatoire est battue en brèche. (...) C’est désormais\n",
    "autour des thèmes de la stabilité et de l’instabilité que s’organisent nos\n",
    "descriptions du monde, et non autour de l’opposition entre hasard et\n",
    "nécessité. »"
   ]
  },
  {
   "cell_type": "code",
   "execution_count": null,
   "metadata": {
    "collapsed": true
   },
   "outputs": [],
   "source": []
  },
  {
   "cell_type": "markdown",
   "metadata": {},
   "source": [
    "Ilya Prigogine ha propuesto que las estructuras disipativas no obedecen el principio de orden de Boltzmann, porque las estructuras disipativas no estan en equilibrio, mas aun si uno acepta que el universo no esta en equilibrio, entonces siempre esta cambiando, \"evolucionando\".\n",
    "\n",
    "Que es evolucionar? todo evoluciona, las estrellas, el universo... la pregunta consecuente que nos hariamos seria, habra leyes que nos expliquen esto?\n",
    "\n",
    "tendria que haber constantes, como la energia, ya no parece tan descabellado tratar de explicar la evolucion en terminos de entropia. Aunque esto crea una aparente paradoja [(entropy contradicts evolution?)](http://www.icr.org/article/does-entropy-contradict-evolution/)\n",
    "\n",
    "la resolucion de esta aparente paradoja yace en que la asercion de la maximizacion de la entropia que luego da fundamento a la tendencia hacia el desorden esta basado en nociones globales y no se puede aplicar a subsistemas\n",
    "\n",
    "como dice Lotka en su libro\n",
    ">\".... the steady states with which we are most frequently and most closely\n",
    "concerned in the field of organic evolution (our main topic here) are of the\n",
    "second class; not true equilibria in the dynamic sense in which all forces are\n",
    "balanced, but what we have termed quasi-equilibria, states maintained con-\n",
    "stant or approximately so with a continual expenditure, a continual dissipa-\n",
    "tion or degradation of available energy.\"\n",
    "\n"
   ]
  },
  {
   "cell_type": "markdown",
   "metadata": {},
   "source": [
    "cuando dicen que los organismos estamos ordenados, a que se refieren? \n",
    "tambien porque nos quieren sugerir que esta en contradiccion con la segun"
   ]
  },
  {
   "cell_type": "markdown",
   "metadata": {},
   "source": [
    "[thermodynamics of evolution](http://www.eoht.info/page/Thermodynamics+of+Evolution)\n",
    "\n",
    "[entropy contradicts evolution?](http://www.icr.org/article/does-entropy-contradict-evolution/)\n",
    "[creation vs evolution](http://www.motherearthnews.com/nature-and-environment/evolution-vs-creation-zmaz84ndzraw.aspx)\n",
    "[jespere ca aide](http://authie.lyc.ac-amiens.fr/wp-content/uploads/Ecrire-un-essai.pdf)\n",
    "\n",
    "\n",
    "[video](https://www.youtube.com/watch?v=6lNz5vmKEFA)\n",
    "\n",
    "[il](http://www.matierevolution.fr/spip.php?article446)\n",
    "\n",
    "[dis](http://www.metafysica.nl/dissipative_systems.html)\n"
   ]
  },
  {
   "cell_type": "markdown",
   "metadata": {},
   "source": [
    "<img src=\"https://raw.githubusercontent.com/numerical-mooc/numerical-mooc/master/lessons/04_spreadout/figures/fingerprint.gif\">"
   ]
  },
  {
   "cell_type": "markdown",
   "metadata": {},
   "source": []
  },
  {
   "cell_type": "markdown",
   "metadata": {},
   "source": []
  },
  {
   "cell_type": "code",
   "execution_count": 9,
   "metadata": {
    "collapsed": false
   },
   "outputs": [
    {
     "data": {
      "image/png": "[encoded data removed]",
      "text/plain": [
       "<matplotlib.figure.Figure at 0x7f0ee52fb710>"
      ]
     },
     "metadata": {},
     "output_type": "display_data"
    }
   ],
   "source": [
    "%matplotlib inline\n",
    "from matplotlib import pyplot as plt\n",
    "import numpy as np\n",
    "\n",
    "from IPython.html.widgets import interact\n",
    "\n",
    "\n",
    "def hill(n,kmax,kn):\n",
    "    plt.rcParams['figure.figsize'] = 10, 10\n",
    "    plt.rcParams['axes.facecolor'] = '111111' # Or any suitable colour...\n",
    "    plt.grid(color='orange', linestyle='--', linewidth=.2)\n",
    "    x =np.linspace(-5,5,num=100)\n",
    "    y = kmax*(x**n/(kn+x**n))\n",
    "    plt.plot(x,y,color='blue')\n",
    "    plt.grid(True)\n",
    "    plt.ylim(-5,5)\n",
    "    plt.xlim(-5,5)\n",
    "    plt.title(u'l\\'equation de hill')\n",
    "  \n",
    "    \n",
    "# hill(2,3,2)\n",
    "\n",
    "\n",
    "interact(hill,n=(1,3),kmax=(-20,20),kn=(-10,20))"
   ]
  },
  {
   "cell_type": "code",
   "execution_count": null,
   "metadata": {
    "collapsed": true
   },
   "outputs": [],
   "source": []
  }
 ],
 "metadata": {
  "kernelspec": {
   "display_name": "Python 3",
   "language": "python",
   "name": "python3"
  },
  "language_info": {
   "codemirror_mode": {
    "name": "ipython",
    "version": 3
   },
   "file_extension": ".py",
   "mimetype": "text/x-python",
   "name": "python",
   "nbconvert_exporter": "python",
   "pygments_lexer": "ipython3",
   "version": "3.4.0"
  }
 },
 "nbformat": 4,
 "nbformat_minor": 0
}

{
 "cells": [
  {
   "cell_type": "markdown",
   "metadata": {},
   "source": [
    "##Domino and graphs\n",
    "\n",
    "####Abstract\n",
    "\n",
    "So this is the first writing of an experiment of mine, i want to share thoughts and insights i may encounter and i will try to explain them the best i can.\n",
    "\n",
    "In mathematics i percieve people are jealous about sharing knowledge, not all people of course, but that is the impression i'm left with.\n",
    "\n",
    "Sometimes the way in wich the knowledge is hidden its not at all explicit, it may be resources you are not allowed to read if you do not belong to certain group, it may lie embedded in words and intricate structures that are not very useful to the theory but only to confuse the newcomers\n",
    "\n",
    "it may be the tedious problems when trying to install a comfortable enviroment for coding ...\n",
    "\n",
    "and not everybody focus the attention to that, those problems remain in the air named as _implementation issues_"
   ]
  },
  {
   "cell_type": "markdown",
   "metadata": {},
   "source": [
    "####Why the title?\n",
    "\n",
    "So this is an anecdote of what happened recently, i was wondering (_like always_) how often will the players in a domino game be able to continue to play until nobody has pieces left over (that means _having all the 28 pieces of domino in the table, following the rules of domino_)\n",
    "Was it even possible? it kept me thinking in the night before sleep (my biological time is all messed up), and suddenly i saw how to determine if it was possible or not, like a blured image, a path to follow but i left it there, i slept and in the morning i did what i knew would work."
   ]
  },
  {
   "cell_type": "markdown",
   "metadata": {},
   "source": [
    "\n"
   ]
  },
  {
   "cell_type": "markdown",
   "metadata": {},
   "source": [
    "####Graphs\n",
    "\n",
    "The idea that struck and i just followed in the morning was to use **_De Bruijn Graphs_** which i'm well acquainted due to my interest in Bioinformatics :), the amazing book and online course of **Dr.Pavel Pevzner** was my first contact to that field. (thanks ^^)\n",
    "\n",
    "**What it has to do with Bioinformatics?**, well in one example they have used this to genome assembly, this is a huge topic and i'm not be able to go deep into it (at least for now). if you want to read and know more about i find this article a good start [De Bruijn graphs to genome assembly](http://www.nature.com/nbt/journal/v29/n11/full/nbt.2023.html).\n",
    "\n",
    "<img src=\"http://www.nature.com/nrg/journal/v14/n5/images/nrg3433-f1.jpg\" width=\"470\">\n",
    "\n",
    "\n",
    "in simple words the problem with this (very simplified, excuse me if i mess up) is that the machines to read DNA sequences just read little chunks of it, what it has been proposed is in some way to assign these reads to nodes on a graph, if just assigned in the \"normal\" way then we would be searching for a Hamiltonian path and that would gives us the possible read.\n",
    "if instead we build the associated De Bruijn graph with those nodes, the problem reduces to find an Eulerian Cycle which is easier than solving a Hamiltonian path.\n",
    "\n",
    "i know its technical but if you want to learn this, it would make sense to you. i **Highly** recommend viewing this playlist of [genome sequencing](https://www.youtube.com/watch?v=vjB6nhOu3BY&index=1&list=PL_XJ5e24FaSE9U2aRrvLnZWeZbw30u3IH) by Pavel.\n",
    "\n"
   ]
  },
  {
   "cell_type": "markdown",
   "metadata": {},
   "source": [
    "<img src=\"http://www.nature.com/nbt/journal/v29/n11/images_article/nbt.2023-F3.gif\" width=\"670\">"
   ]
  },
  {
   "cell_type": "markdown",
   "metadata": {},
   "source": [
    "####So... where's the domino dude?\n",
    "Here is why i like mathematics, you know how to do X thing and you wanna do Y thing... no problem just transform Y into a X-iest form and you're done.\n",
    "\n",
    "we just wanted to place all pieces of domino to see if it was even possible to have all 28 in the table (following the rules)\n",
    "\n",
    "If i imagine the numbers from 0 to 6 are just nodes in a graph, and a link between two nodes is a domino piece... then i all got to do is find an eulerian path\n",
    "\n",
    "i did find a very ordered one :), took a photo and posted this image, but i never explained what it meant, i just titled it K7 :) "
   ]
  },
  {
   "cell_type": "markdown",
   "metadata": {},
   "source": [
    "<img src=\"https://scontent.felp1-1.fna.fbcdn.net/hphotos-xpf1/v/t1.0-9/r90/11742765_10153376126882110_1699676968144826209_n.jpg?oh=e16b2a44028b264c65e8dbfdf45c392b&oe=56551643\" width=\"570\">\n",
    "\n",
    "\n",
    "\n"
   ]
  },
  {
   "cell_type": "markdown",
   "metadata": {},
   "source": [
    "but obviously i felt something was missing, it doesn't mean anything if you can't really see the K7 graph...\n",
    "here it is more visual :) i actually saw going first with the orange (with loops) , the blue and finally the green\n",
    "\n",
    "\n",
    "<img src=\"https://scontent.felp1-1.fna.fbcdn.net/hphotos-xtp1/v/t1.0-9/1610979_10153398212382110_8519155505532061774_n.jpg?oh=c62a52acce07fe8e7c2916b6f7dfdaa0&oe=5646F059\" width=\"370\">"
   ]
  },
  {
   "cell_type": "markdown",
   "metadata": {},
   "source": [
    "i draw it with processing :) it's really messy code, long time i didn't use it and if it gave me the image i don't have reason for cleaning it, if you are interested i may do that but you have to send me feedback\n",
    "\n",
    "\n",
    "here it is:"
   ]
  },
  {
   "cell_type": "markdown",
   "metadata": {},
   "source": [
    "```java\n",
    "float[][] points = {{0,0},{0,0},{0,0},{0,0},{0,0},{0,0},{0,0}};\n",
    "int cols = 21;\n",
    "int rows = 2;\n",
    "float[][] petitpoints = new float[cols][rows];\n",
    "int m = 0;\n",
    "\n",
    "void setup(){\n",
    "  size(600,600);\n",
    "  polygon(width*0.5, height*0.5, 260, 7); \n",
    "}\n",
    "\n",
    "\n",
    "void draw() {\n",
    "  background(100);\n",
    " //polygon(width*0.5, height*0.5, 160, 7);  \n",
    " for(int j=0; j < 7; j+=1){\n",
    "   \n",
    "   strokeWeight(10);\n",
    "   stroke(204, 102, 0);\n",
    "   line(points[j][0],points[j][1],points[(j+1)%7][0],points[(j+1)%7][1]);\n",
    "   \n",
    "   \n",
    "   strokeWeight(10);\n",
    "   stroke(4, 102, 204);\n",
    "   line(points[j][0],points[j][1],points[(j+2)%7][0],points[(j+2)%7][1]);\n",
    " \n",
    "   \n",
    "   strokeWeight(10);\n",
    "   stroke(0, 202, 60);\n",
    "   line(points[j][0],points[j][1],points[(j+3)%7][0],points[(j+3)%7][1]);\n",
    "   \n",
    " }\n",
    " \n",
    " for(int j=0; j < 7; j+=1){\n",
    " strokeWeight(1);\n",
    "   stroke(0,0,0);\n",
    "   fill(255);\n",
    "   ellipse(points[j][0],points[j][1],60,60);\n",
    " }\n",
    " \n",
    " stroke(0,0,0);\n",
    " fill(0);\n",
    " //ellipse(mouseX,mouseY,10,10);\n",
    " \n",
    " \n",
    "ellipse(463,502,10,10);\n",
    "ellipse(254,543,10,10);\n",
    "ellipse(232,561,10,10);\n",
    "ellipse(81,397,10,10);\n",
    "ellipse(67,411,10,10);\n",
    "ellipse(53,425,10,10);\n",
    "ellipse(52,173,10,10);\n",
    "ellipse(51,198,10,10);\n",
    "ellipse(75,199,10,10);\n",
    "ellipse(76,175,10,10);\n",
    "ellipse(227,29,10,10);\n",
    "ellipse(227,60,10,10);\n",
    "ellipse(257,61,10,10);\n",
    "ellipse(258,30,10,10);\n",
    "ellipse(243,45,10,10);\n",
    "ellipse(452,78,10,10);\n",
    "ellipse(452,94,10,10);\n",
    "ellipse(452,110,10,10);\n",
    "ellipse(472,110,10,10);\n",
    "ellipse(472,94,10,10);\n",
    "ellipse(472,78,10,10);\n",
    "\n",
    " \n",
    " for(int j=0; j < m; j+=1){\n",
    "   stroke(0,0,0);\n",
    "   fill(0);\n",
    "   ellipse(petitpoints[j][0],petitpoints[j][1],10,10);\n",
    " }\n",
    "\n",
    " \n",
    "}\n",
    "\n",
    "\n",
    "\n",
    "void mousePressed() {\n",
    "   \n",
    "   petitpoints[m][0] = mouseX;\n",
    "   petitpoints[m][1] = mouseY;\n",
    "   println(mouseX);\n",
    "   println(mouseY);\n",
    "   m+=1;\n",
    "   \n",
    " }\n",
    " \n",
    " void keyPressed() {\n",
    "  switch(key) {\n",
    "    \n",
    "  case 's':\n",
    "  case 'S':\n",
    "     saveFrame(\"dominograph\" + \" -####.png\");\n",
    "     break;\n",
    "  }\n",
    "}\n",
    " \n",
    " \n",
    "\n",
    "void polygon(float x, float y, float radius, int npoints) {\n",
    "  float angle = TWO_PI / npoints;\n",
    "  float a = 0;\n",
    "  //beginShape();\n",
    "  for (int i = 0; i < npoints; a += angle, i+=1) {\n",
    "    float sx = x + cos(a) * radius;\n",
    "    float sy = y + sin(a) * radius;\n",
    "    \n",
    "    //vertex(sx, sy);\n",
    "    \n",
    "    points[i][0]=sx;\n",
    "    points[i][1]=sy;\n",
    "    //print(i);\n",
    "    //print(sx,sy);\n",
    "   // ellipse(sx,sy,40,40);\n",
    "    //ellipse(sx,sy,20,20);\n",
    "    \n",
    "  }\n",
    "  //endShape(CLOSE);\n",
    "  \n",
    " \n",
    "  \n",
    "  \n",
    "}\n",
    "```"
   ]
  }
 ],
 "metadata": {
  "kernelspec": {
   "display_name": "Julia 0.4.0-dev",
   "language": "julia",
   "name": "julia-0.4"
  },
  "language_info": {
   "name": "julia",
   "version": "0.4.0"
  }
 },
 "nbformat": 4,
 "nbformat_minor": 0
}

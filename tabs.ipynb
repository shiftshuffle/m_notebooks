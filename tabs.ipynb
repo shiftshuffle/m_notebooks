{
 "cells": [
  {
   "cell_type": "markdown",
   "metadata": {},
   "source": [
    "* [Lichtenberg wood](https://www.youtube.com/watch?v=BuG1oNRQnyI)\n",
    "* [Lichtenberg crystal](https://www.youtube.com/watch?v=f-_UfQ5eOxA)\n",
    "* [feyman electricity](https://www.youtube.com/watch?v=kS25vitrZ6g)\n",
    "* [ferromagnet watercolor](https://www.youtube.com/watch?v=AVzSJJNDOkc)\n",
    "* [ferromagnets bubbles](https://www.youtube.com/watch?v=9wTGKpq3Ugk)\n",
    "* [pendule simple](https://www.youtube.com/watch?v=yVkdfJ9PkRQ)\n",
    "* [osciloscope mushrooms](https://www.youtube.com/watch?v=rtR63-ecUNo)\n",
    "* [orbit drops](https://www.youtube.com/watch?v=qHrBhgwq__Q)\n",
    "* [electromagnetism](https://www.youtube.com/watch?v=bht9AJ1eNYc)\n",
    "* [complex streamlines](http://www.math.umn.edu/~olver/ln_/cml.pdf)\n",
    "\n",
    "\n",
    "* [poisson zebre gadusol](http://www.indesciences.com/le-gadusol-nouvelle-protection-naturelle-contre-les-uv/)\n",
    "* [images des maths, entropie](http://images.math.cnrs.fr/Entropie-I-Neguentropie.html)\n",
    "* [automatique](https://www.youtube.com/watch?v=999kzydPHGg)\n",
    "\n",
    "> Quâ€™est-ce quâ€™un imbÃ©cile sphÃ©rique?\n",
    "> \n",
    "> Câ€™est un imbÃ©cile dans toutes les directions.\n"
   ]
  },
  {
   "cell_type": "code",
   "execution_count": null,
   "metadata": {
    "collapsed": true
   },
   "outputs": [],
   "source": []
  }
 ],
 "metadata": {
  "kernelspec": {
   "display_name": "Python 3",
   "language": "python",
   "name": "python3"
  },
  "language_info": {
   "codemirror_mode": {
    "name": "ipython",
    "version": 3
   },
   "file_extension": ".py",
   "mimetype": "text/x-python",
   "name": "python",
   "nbconvert_exporter": "python",
   "pygments_lexer": "ipython3",
   "version": "3.4.0"
  }
 },
 "nbformat": 4,
 "nbformat_minor": 0
}
